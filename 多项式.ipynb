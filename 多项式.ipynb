{
 "cells": [
  {
   "cell_type": "markdown",
   "metadata": {},
   "source": [
    "# 编写一个多项式类\n",
    "* 阶\n",
    "* 系数\n",
    "$$\n",
    "p(x) = a_0 + a_1x+ a_2x^2 + \\dots+a_Nx^N = \\sum_{n=0}^n a_nx^n(x \\in \\mathbb{R})\n",
    "$$"
   ]
  },
  {
   "cell_type": "code",
   "execution_count": 5,
   "metadata": {},
   "outputs": [],
   "source": [
    "# 多项式，本质上是一个向量，用可迭代对象来存储多项式（的系数）是一个很自然的事情\n",
    "\n",
    "class Polynomial:\n",
    "    def __init__(self, coefficents):\n",
    "        \n",
    "        self.coefficents = coefficents;\n",
    "        \n",
    "    def __call__(self, x):\n",
    "        value = 0;\n",
    "        for power, coef in enumerate(self.coefficents):\n",
    "            value = value + coef * (x ** power);\n",
    "            \n",
    "        return value;\n",
    "    \n",
    "    def differentiate(self):\n",
    "        \n",
    "        new_coefs = [];\n",
    "        for power, coef in enumerate(self.coefficents):\n",
    "            new_coef = power*coef;\n",
    "            new_coefs.append(new_coef);\n",
    "            \n",
    "            ## 这个写法太聪明了\n",
    "            ## python已经原作者玩明白了\n",
    "            del new_coefs[0];\n",
    "            self.coefficents = new_coefs;\n",
    "            \n",
    "            return new_coefsw;\n",
    "    "
   ]
  },
  {
   "cell_type": "code",
   "execution_count": 2,
   "metadata": {},
   "outputs": [],
   "source": [
    "a = enumerate([1,3,65,3,2,1])"
   ]
  },
  {
   "cell_type": "code",
   "execution_count": 4,
   "metadata": {},
   "outputs": [
    {
     "name": "stdout",
     "output_type": "stream",
     "text": [
      "<enumerate object at 0x0000013A4581A900>\n"
     ]
    }
   ],
   "source": []
  },
  {
   "cell_type": "code",
   "execution_count": null,
   "metadata": {},
   "outputs": [],
   "source": []
  }
 ],
 "metadata": {
  "kernelspec": {
   "display_name": "Python 3",
   "language": "python",
   "name": "python3"
  },
  "language_info": {
   "codemirror_mode": {
    "name": "ipython",
    "version": 3
   },
   "file_extension": ".py",
   "mimetype": "text/x-python",
   "name": "python",
   "nbconvert_exporter": "python",
   "pygments_lexer": "ipython3",
   "version": "3.8.10"
  }
 },
 "nbformat": 4,
 "nbformat_minor": 4
}
