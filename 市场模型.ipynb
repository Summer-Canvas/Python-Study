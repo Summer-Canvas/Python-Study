{
 "cells": [
  {
   "cell_type": "markdown",
   "id": "c37fd675",
   "metadata": {},
   "source": [
    "## 市场模型"
   ]
  },
  {
   "cell_type": "markdown",
   "id": "eb44a2a3",
   "metadata": {},
   "source": [
    "* 线性需求曲线 $Q = a_d - b_d p$\n",
    "\n",
    "* 线性供给曲线 $Q = a_z + b_z(p-t)$\n",
    "\n",
    "* p: 市场的价格\n",
    "* t: 每单位商品的税收\n",
    "\n",
    "从经济学的理论考虑，这个类应含有\n",
    "1. （计算各种量的）方法\n",
    "    * 均衡价格\n",
    "    * 均衡时的供给/需求量\n",
    "    * （税收上涨的）update\n",
    "    * 生产者剩余\n",
    "    * 消费者剩余"
   ]
  },
  {
   "cell_type": "code",
   "execution_count": 1,
   "id": "c29a7283",
   "metadata": {},
   "outputs": [],
   "source": [
    "%matplotlib notebook\n",
    "%matplotlib inline\n",
    "\n",
    "import numpy as np\n",
    "import matplotlib.pyplot as plt"
   ]
  },
  {
   "cell_type": "code",
   "execution_count": 2,
   "id": "7a711cfa",
   "metadata": {},
   "outputs": [],
   "source": [
    "## 数值积分函数quad from scipy\n",
    "\n",
    "from scipy.integrate import quad\n",
    "class Market:\n",
    "    \n",
    "    def __init__(self, ad, bd, az, bz, tax):\n",
    "        self.ad = ad;\n",
    "        self.bd = bd;\n",
    "        self.az = az;\n",
    "        self.bz = bz;\n",
    "        self.tax = tax;\n",
    "        if (az>ad):\n",
    "            raise ValueError('Insufficient Demand!');\n",
    "            \n",
    "            \n",
    "    def price(self):\n",
    "            ad = self.ad;\n",
    "            bd = self.bd;\n",
    "            az = self.az;\n",
    "            bz = self.bz;\n",
    "            tax = self.tax;\n",
    "            price = (ad - az + bz*tax)/(bd+bz)\n",
    "            return price\n",
    "        \n",
    "        \n",
    "    def quantity(self):\n",
    "            quantity = self.ad - self.bd  * self.price();\n",
    "            return quantity;\n",
    "        \n",
    "    def consumer_surplus(self):\n",
    "            \n",
    "            integrand = lambda x: (self.ad/self.bd) - (1/self.bd) * x;\n",
    "            area, error = quad(integrand, 0, self.quantity());\n",
    "            return area - self.price()*self.quantity();\n",
    "        \n",
    "    def producer_surplus(self):\n",
    "            \n",
    "            integrand = lambda x: -(self.az.self.bz) + (1/self.bz) * x;\n",
    "            area, error = quad(integrand, 0, self.quantity());\n",
    "            return (self.price()- self.tax) * self.quantity() - area;\n",
    "        \n",
    "    def tax_revenue(self):\n",
    "            \n",
    "            tax_revenue = self.tax * self.quantity();\n",
    "            return tax_revenue;\n",
    "        \n",
    "    def inverse_demand(self,x):\n",
    "            return self.ad/self.bd - (1/self.bd)*x;\n",
    "        \n",
    "    def inverse_supply(self,x):\n",
    "            return -(self.az/self.bz) + (1/self.bz) * x + self.tax;\n",
    "        \n",
    "    def inverse_supply_without_tax(self,x):\n",
    "            \n",
    "            return -(self.az/self.bz) + (1/self.bz) * x;\n",
    "         \n",
    "        "
   ]
  },
  {
   "cell_type": "code",
   "execution_count": 3,
   "id": "38235efa",
   "metadata": {},
   "outputs": [
    {
     "name": "stdout",
     "output_type": "stream",
     "text": [
      "eq price =  18.5\n"
     ]
    }
   ],
   "source": [
    "baseline_paras = 15, 0.5, -2, 0.5, 3;\n",
    "market1 = Market(*baseline_paras);\n",
    "print('eq price = ', market1.price());"
   ]
  },
  {
   "cell_type": "code",
   "execution_count": 4,
   "id": "4e4ebd18",
   "metadata": {},
   "outputs": [
    {
     "data": {
      "text/plain": [
       "18.5"
      ]
     },
     "execution_count": 4,
     "metadata": {},
     "output_type": "execute_result"
    }
   ],
   "source": [
    "market1.price()\n"
   ]
  },
  {
   "cell_type": "code",
   "execution_count": 8,
   "id": "6432e2ca",
   "metadata": {},
   "outputs": [],
   "source": [
    "quantity_max = market1.quantity() * 2;\n",
    "\n",
    "quantity_grid = np.linspace(0.0, quantity_max, 100);\n",
    "\n",
    "price_for_demand = market1.inverse_demand(quantity_grid);\n",
    "price_for_supply = market1.inverse_supply(quantity_grid);\n",
    "price_for_supply_without_tax = market1.inverse_supply_without_tax(quantity_grid);\n"
   ]
  },
  {
   "cell_type": "code",
   "execution_count": 10,
   "id": "1de52ab7",
   "metadata": {
    "scrolled": true
   },
   "outputs": [
    {
     "data": {
      "image/png": "[encoded data removed]",
      "text/plain": [
       "<Figure size 432x288 with 1 Axes>"
      ]
     },
     "metadata": {
      "needs_background": "light"
     },
     "output_type": "display_data"
    }
   ],
   "source": [
    "fig, ax = plt.subplots();\n"
   ]
  },
  {
   "cell_type": "code",
   "execution_count": 18,
   "id": "f56c3ca5",
   "metadata": {},
   "outputs": [
    {
     "data": {
      "image/png": "[encoded data removed]",
      "text/plain": [
       "<Figure size 432x288 with 1 Axes>"
      ]
     },
     "metadata": {
      "needs_background": "light"
     },
     "output_type": "display_data"
    }
   ],
   "source": [
    "fig, ax = plt.subplots();\n",
    "ax.plot(quantity_grid, price_for_demand, lw=2, alpha = 0.6, label = 'demand');\n",
    "ax.plot(quantity_grid, price_for_supply, lw = 2, alpha = 0.6, label = 'supply');\n",
    "ax.plot(quantity_grid, price_for_supply_without_tax, '--k', lw = 2, alpha = 0.6, label = 'supply without tax');\n",
    "\n",
    "ax.set_xlim(0, quantity_max);\n",
    "ax.set_xlabel('Quantity', fontsize = 14);\n",
    "ax.set_ylabel('Price', fontsize = 14);\n",
    "\n",
    "ax.legend(loc = 'lower right', frameon = False, fontsize = 14);\n",
    "plt.show()\n"
   ]
  },
  {
   "cell_type": "code",
   "execution_count": null,
   "id": "b5fa46ef",
   "metadata": {},
   "outputs": [],
   "source": []
  }
 ],
 "metadata": {
  "kernelspec": {
   "display_name": "Python 3",
   "language": "python",
   "name": "python3"
  },
  "language_info": {
   "codemirror_mode": {
    "name": "ipython",
    "version": 3
   },
   "file_extension": ".py",
   "mimetype": "text/x-python",
   "name": "python",
   "nbconvert_exporter": "python",
   "pygments_lexer": "ipython3",
   "version": "3.8.10"
  }
 },
 "nbformat": 4,
 "nbformat_minor": 5
}
