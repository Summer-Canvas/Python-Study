{
 "cells": [
  {
   "cell_type": "markdown",
   "metadata": {},
   "source": [
    "# 经验累积分布函数（ECDF）\n",
    "\n",
    "对于一个样本$\\{X_i \\}_{i=1}^n$,其经验累积分布函数定义为\n",
    "$$\n",
    "F_n(x) = \\frac{1}{n} \\sum_{i=1}^n I\\{ X_i \\leq x\\} x \\in R \\\\\n",
    "其中I\\{ X_i \\leq x\\} 为指示函数，满足条件为1，不满足为0\\\\\n",
    "因此经验累积分布函数实际上指的是：给定x值，样本中小于x的样本点的个数占总样本点个数的比例\n",
    "$$\n",
    "\n",
    "根据$The\\ Glivenko-Cantelli\\ Theorem$,若样本为独立同分布，则ECDF会收敛到真正的CDF"
   ]
  },
  {
   "cell_type": "markdown",
   "metadata": {},
   "source": [
    "\n"
   ]
  },
  {
   "cell_type": "code",
   "execution_count": 4,
   "metadata": {},
   "outputs": [],
   "source": [
    "# empirical cumulative distribution function\n",
    "class ECDF:\n",
    "    def __init__(self, observations):\n",
    "        self.observations = observations;\n",
    "        \n",
    "    # special methods \n",
    "    def __call__(self, x):\n",
    "        counter = 0.0;\n",
    "        for point in self.observations:\n",
    "            if point < x:\n",
    "                counter = counter+1 ;\n",
    "        return counter/len(self.observations);\n",
    "    "
   ]
  },
  {
   "cell_type": "code",
   "execution_count": 11,
   "metadata": {},
   "outputs": [],
   "source": [
    "from random import uniform\n",
    "\n",
    "## if you change the value of sample_size(increase it)\n",
    "## it would turn out that the bigger the size is,\n",
    "## the precise the ecdf's output\n",
    "## perfect validation for G-C theorem\n",
    "sample_size = 10000;\n",
    "samples = [];\n",
    "for i in range(sample_size):\n",
    "    samples.append(uniform(0,1));\n",
    "    \n",
    "\n",
    "\n"
   ]
  },
  {
   "cell_type": "code",
   "execution_count": 12,
   "metadata": {},
   "outputs": [],
   "source": [
    "ecdf1 = ECDF(samples);"
   ]
  },
  {
   "cell_type": "code",
   "execution_count": 13,
   "metadata": {},
   "outputs": [
    {
     "name": "stdout",
     "output_type": "stream",
     "text": [
      "0.2968\n"
     ]
    }
   ],
   "source": [
    "print(ecdf1(0.3))"
   ]
  },
  {
   "cell_type": "code",
   "execution_count": null,
   "metadata": {},
   "outputs": [],
   "source": []
  }
 ],
 "metadata": {
  "kernelspec": {
   "display_name": "Python 3",
   "language": "python",
   "name": "python3"
  },
  "language_info": {
   "codemirror_mode": {
    "name": "ipython",
    "version": 3
   },
   "file_extension": ".py",
   "mimetype": "text/x-python",
   "name": "python",
   "nbconvert_exporter": "python",
   "pygments_lexer": "ipython3",
   "version": "3.8.10"
  }
 },
 "nbformat": 4,
 "nbformat_minor": 4
}
